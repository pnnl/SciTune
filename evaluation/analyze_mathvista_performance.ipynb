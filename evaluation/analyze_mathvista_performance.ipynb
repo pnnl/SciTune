{
 "cells": [
  {
   "cell_type": "code",
   "execution_count": null,
   "metadata": {},
   "outputs": [],
   "source": [
    "%env HF_HOME=/rcfs/projects/steel_thread/hora620/hf\n",
    "%env TORCH_EXTENSIONS_DIR=/rcfs/projects/steel_thread/hora620/pytorch"
   ]
  },
  {
   "cell_type": "code",
   "execution_count": 1,
   "metadata": {},
   "outputs": [],
   "source": [
    "from PIL import Image\n",
    "import json\n",
    "import os\n",
    "import random\n",
    "import pandas as pd\n",
    "import re"
   ]
  },
  {
   "cell_type": "markdown",
   "metadata": {},
   "source": [
    "## HF Datasets"
   ]
  },
  {
   "cell_type": "code",
   "execution_count": null,
   "metadata": {},
   "outputs": [],
   "source": [
    "from datasets import load_dataset\n",
    "\n",
    "dataset = load_dataset(\"AI4Math/MathVista\")"
   ]
  },
  {
   "cell_type": "code",
   "execution_count": null,
   "metadata": {},
   "outputs": [],
   "source": [
    "# print the first example on the testmini set\n",
    "print(dataset[\"testmini\"][0])\n",
    "print(dataset[\"testmini\"][0]['pid']) # print the problem id \n",
    "print(dataset[\"testmini\"][0]['question']) # print the question text \n",
    "print(dataset[\"testmini\"][0]['query']) # print the query text\n",
    "print(dataset[\"testmini\"][0]['image']) # print the image path\n",
    "print(dataset[\"testmini\"][0]['answer']) # print the answer\n",
    "dataset[\"testmini\"][0]['decoded_image'] # display the image\n"
   ]
  },
  {
   "cell_type": "code",
   "execution_count": null,
   "metadata": {},
   "outputs": [],
   "source": [
    "\n",
    "# print the first example on the test set\n",
    "print(dataset[\"test\"][0])"
   ]
  },
  {
   "cell_type": "markdown",
   "metadata": {},
   "source": [
    "## Local"
   ]
  },
  {
   "cell_type": "code",
   "execution_count": 2,
   "metadata": {},
   "outputs": [],
   "source": [
    "data_base_dir='/qfs/projects/steel_thread/hora620/DevHub/scientific-instruction-tuning/MathVista/data'\n",
    "data_path='/qfs/projects/steel_thread/hora620/DevHub/scientific-instruction-tuning/MathVista/data/testmini.json'\n",
    "list_data_dict = json.load(open(data_path, \"r\"))"
   ]
  },
  {
   "cell_type": "code",
   "execution_count": 4,
   "metadata": {},
   "outputs": [],
   "source": [
    "list_data_dict_df=pd.DataFrame([[i,m['question'],m['metadata']['source']] for i,m in list_data_dict.items()])\n",
    "list_data_dict_df.columns=['index','question','metadata_source']"
   ]
  },
  {
   "cell_type": "code",
   "execution_count": 5,
   "metadata": {},
   "outputs": [
    {
     "data": {
      "text/html": [
       "<div>\n",
       "<style scoped>\n",
       "    .dataframe tbody tr th:only-of-type {\n",
       "        vertical-align: middle;\n",
       "    }\n",
       "\n",
       "    .dataframe tbody tr th {\n",
       "        vertical-align: top;\n",
       "    }\n",
       "\n",
       "    .dataframe thead th {\n",
       "        text-align: right;\n",
       "    }\n",
       "</style>\n",
       "<table border=\"1\" class=\"dataframe\">\n",
       "  <thead>\n",
       "    <tr style=\"text-align: right;\">\n",
       "      <th></th>\n",
       "      <th>index</th>\n",
       "      <th>question</th>\n",
       "      <th>metadata_source</th>\n",
       "    </tr>\n",
       "  </thead>\n",
       "  <tbody>\n",
       "    <tr>\n",
       "      <th>0</th>\n",
       "      <td>1</td>\n",
       "      <td>When a spring does work on an object, we canno...</td>\n",
       "      <td>SciBench</td>\n",
       "    </tr>\n",
       "    <tr>\n",
       "      <th>1</th>\n",
       "      <td>2</td>\n",
       "      <td>what is the total volume of the measuring cup?</td>\n",
       "      <td>TextVQA</td>\n",
       "    </tr>\n",
       "    <tr>\n",
       "      <th>2</th>\n",
       "      <td>3</td>\n",
       "      <td>△ABC的两内角平分线OB、OC相交于点O，若∠A＝110°，则∠BOC＝（）</td>\n",
       "      <td>GeoQA+</td>\n",
       "    </tr>\n",
       "    <tr>\n",
       "      <th>3</th>\n",
       "      <td>4</td>\n",
       "      <td>Subtract all large rubber spheres. Subtract al...</td>\n",
       "      <td>CLEVR-Math</td>\n",
       "    </tr>\n",
       "    <tr>\n",
       "      <th>4</th>\n",
       "      <td>5</td>\n",
       "      <td>Find $m\\angle H$</td>\n",
       "      <td>Geometry3K</td>\n",
       "    </tr>\n",
       "    <tr>\n",
       "      <th>...</th>\n",
       "      <td>...</td>\n",
       "      <td>...</td>\n",
       "      <td>...</td>\n",
       "    </tr>\n",
       "    <tr>\n",
       "      <th>995</th>\n",
       "      <td>996</td>\n",
       "      <td>Subtract all big shiny balls. Subtract all blu...</td>\n",
       "      <td>CLEVR-Math</td>\n",
       "    </tr>\n",
       "    <tr>\n",
       "      <th>996</th>\n",
       "      <td>997</td>\n",
       "      <td>Is kx^2/2 larger than E at x=0?</td>\n",
       "      <td>FunctionQA</td>\n",
       "    </tr>\n",
       "    <tr>\n",
       "      <th>997</th>\n",
       "      <td>998</td>\n",
       "      <td>如图：∠AOB：∠BOC：∠COD＝2：3：4，射线OM、ON，分别平分∠AOB与∠COD，...</td>\n",
       "      <td>GeoQA+</td>\n",
       "    </tr>\n",
       "    <tr>\n",
       "      <th>998</th>\n",
       "      <td>999</td>\n",
       "      <td>The magnitude of the acceleration vector a is ...</td>\n",
       "      <td>SciBench</td>\n",
       "    </tr>\n",
       "    <tr>\n",
       "      <th>999</th>\n",
       "      <td>1000</td>\n",
       "      <td>Subtract all brown matte cylinders. Subtract a...</td>\n",
       "      <td>CLEVR-Math</td>\n",
       "    </tr>\n",
       "  </tbody>\n",
       "</table>\n",
       "<p>1000 rows × 3 columns</p>\n",
       "</div>"
      ],
      "text/plain": [
       "    index                                           question metadata_source\n",
       "0       1  When a spring does work on an object, we canno...        SciBench\n",
       "1       2     what is the total volume of the measuring cup?         TextVQA\n",
       "2       3            △ABC的两内角平分线OB、OC相交于点O，若∠A＝110°，则∠BOC＝（）          GeoQA+\n",
       "3       4  Subtract all large rubber spheres. Subtract al...      CLEVR-Math\n",
       "4       5                                   Find $m\\angle H$      Geometry3K\n",
       "..    ...                                                ...             ...\n",
       "995   996  Subtract all big shiny balls. Subtract all blu...      CLEVR-Math\n",
       "996   997                    Is kx^2/2 larger than E at x=0?      FunctionQA\n",
       "997   998  如图：∠AOB：∠BOC：∠COD＝2：3：4，射线OM、ON，分别平分∠AOB与∠COD，...          GeoQA+\n",
       "998   999  The magnitude of the acceleration vector a is ...        SciBench\n",
       "999  1000  Subtract all brown matte cylinders. Subtract a...      CLEVR-Math\n",
       "\n",
       "[1000 rows x 3 columns]"
      ]
     },
     "execution_count": 5,
     "metadata": {},
     "output_type": "execute_result"
    }
   ],
   "source": [
    "list_data_dict_df"
   ]
  },
  {
   "cell_type": "code",
   "execution_count": 6,
   "metadata": {},
   "outputs": [
    {
     "data": {
      "text/plain": [
       "metadata_source\n",
       "IconQA          62\n",
       "FunctionQA      62\n",
       "TabMWP          62\n",
       "Super-CLEVR     62\n",
       "Geometry3K      62\n",
       "GeoQA+          62\n",
       "UniGeo          62\n",
       "FigureQA        62\n",
       "CLEVR-Math      62\n",
       "DVQA            62\n",
       "KVQA            60\n",
       "ChartQA         50\n",
       "AI2D            43\n",
       "IQTest          37\n",
       "VQA2.0          32\n",
       "GEOS            22\n",
       "PlotQA          19\n",
       "PaperQA         19\n",
       "SciBench        17\n",
       "TQA             16\n",
       "DocVQA          12\n",
       "TheoremQA       11\n",
       "ScienceQA        9\n",
       "MapQA            8\n",
       "VQA-AS           7\n",
       "A-OKVQA          6\n",
       "TextVQA          6\n",
       "ParsVQA-Caps     2\n",
       "VQA-RAD          2\n",
       "PMC-VQA          1\n",
       "VizWiz           1\n",
       "dtype: int64"
      ]
     },
     "execution_count": 6,
     "metadata": {},
     "output_type": "execute_result"
    }
   ],
   "source": [
    "list_data_dict_df.groupby('metadata_source').size().sort_values(ascending=False)"
   ]
  },
  {
   "cell_type": "code",
   "execution_count": 10,
   "metadata": {},
   "outputs": [
    {
     "name": "stdout",
     "output_type": "stream",
     "text": [
      "43\n"
     ]
    }
   ],
   "source": [
    "# sample_question=\"What is the size of the shaded area under the curve?\"\n",
    "# sample_index=list_data_dict_df[list_data_dict_df['question'].str.match(sample_question)].iloc[0]['index']\n",
    "\n",
    "sample_index=list_data_dict_df.query('metadata_source==\"ScienceQA\"').iloc[1]['index']\n",
    "print(sample_index)"
   ]
  },
  {
   "cell_type": "code",
   "execution_count": 11,
   "metadata": {},
   "outputs": [
    {
     "data": {
      "image/jpeg": "[encoded data removed]",
      "text/plain": [
       "<IPython.core.display.Image object>"
      ]
     },
     "metadata": {},
     "output_type": "display_data"
    },
    {
     "name": "stdout",
     "output_type": "stream",
     "text": [
      "Use the graph to answer the question below. Which month is the wettest on average in Christchurch?\n",
      "images/43.jpg\n",
      "May\n"
     ]
    },
    {
     "data": {
      "text/plain": [
       "{'split': 'testmini',\n",
       " 'language': 'english',\n",
       " 'img_width': 449,\n",
       " 'img_height': 323,\n",
       " 'source': 'ScienceQA',\n",
       " 'category': 'general-vqa',\n",
       " 'task': 'textbook question answering',\n",
       " 'context': 'line plot',\n",
       " 'grade': 'elementary school',\n",
       " 'skills': ['scientific reasoning', 'statistical reasoning']}"
      ]
     },
     "metadata": {},
     "output_type": "display_data"
    }
   ],
   "source": [
    "## searching for qualitative examples\n",
    "from IPython.display import Image, display\n",
    "sample_index='43'\n",
    "\n",
    "record=list_data_dict[sample_index]\n",
    "\n",
    "\n",
    "image_file=record['image']\n",
    "display(Image(filename=os.path.join(data_base_dir, image_file)))\n",
    "# image = Image.open(os.path.join(image_folder, image_file)).convert('RGB')\n",
    "print(record['question'])\n",
    "print(record['image']) # print the image path\n",
    "print(record['answer']) # print the answer\n",
    "display(record['metadata']) # print the answer\n",
    "        "
   ]
  },
  {
   "cell_type": "markdown",
   "metadata": {},
   "source": [
    "## Generated Responses"
   ]
  },
  {
   "cell_type": "code",
   "execution_count": 13,
   "metadata": {},
   "outputs": [],
   "source": [
    "results_file=\"/rcfs/projects/steel_thread/models/LLAVA-7b-pretrain-scitune-333472-v2-13B/mathvista/llava_val_mathvista_prediction_1000_v2.jsonl\""
   ]
  },
  {
   "cell_type": "code",
   "execution_count": 14,
   "metadata": {},
   "outputs": [],
   "source": [
    "results=dict()\n",
    "for line in open(results_file):\n",
    "    line_json=json.loads(line)\n",
    "    results.setdefault(line_json[\"question_id\"],line_json)"
   ]
  },
  {
   "cell_type": "code",
   "execution_count": 15,
   "metadata": {},
   "outputs": [
    {
     "data": {
      "text/plain": [
       "{'question_id': '43',\n",
       " 'prompt': 'Question: Use the graph to answer the question below. Which month is the wettest on average in Christchurch?\\nChoices:\\n(A) August\\n(B) April\\n(C) May\\nImage detected text: []\\nHint: Please answer the question and provide the correct option letter, e.g., A, B, C, D, at the end.\\nSolution:\\n<image>',\n",
       " 'text': 'Assistant: Bar Chart Average monthly rainfall in Christchurch, New Zealand.\\nWuu\\tW\\tA\\tB\\tC\\tD\\nAverage monthly rainfall in Christchurch, New Zealand. Bar Chart. 5 shows the average monthly precipitation in Christchurch, New Zealand. This time, the average monthly precipitation is 61 mm. For this example, the average monthly rainfall is taken from the observed precipitation. We can see that the months with highest precipitation are May, June, October, November and December. The wettest month on average is May with 62 mm of precipitation.\\nAverage monthly precipitation in Christchurch, New Zealand. Bar Chart. 5 shows the average monthly precipitation in Christchurch, New Zealand.\\n The answer is B.',\n",
       " 'answer_id': 'eL2nm2ZFvdHPDFbPc9KRHg',\n",
       " 'model_id': '/rcfs/projects/steel_thread/models/LLAVA/13B',\n",
       " 'metadata': {}}"
      ]
     },
     "execution_count": 15,
     "metadata": {},
     "output_type": "execute_result"
    }
   ],
   "source": [
    "results[sample_index]"
   ]
  },
  {
   "cell_type": "code",
   "execution_count": null,
   "metadata": {},
   "outputs": [],
   "source": []
  },
  {
   "cell_type": "markdown",
   "metadata": {},
   "source": []
  }
 ],
 "metadata": {
  "kernelspec": {
   "display_name": "llava-v21",
   "language": "python",
   "name": "python3"
  },
  "language_info": {
   "codemirror_mode": {
    "name": "ipython",
    "version": 3
   },
   "file_extension": ".py",
   "mimetype": "text/x-python",
   "name": "python",
   "nbconvert_exporter": "python",
   "pygments_lexer": "ipython3",
   "version": "3.9.17"
  }
 },
 "nbformat": 4,
 "nbformat_minor": 2
}
