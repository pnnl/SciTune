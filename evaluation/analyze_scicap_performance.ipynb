{
 "cells": [
  {
   "cell_type": "code",
   "execution_count": 1,
   "metadata": {},
   "outputs": [],
   "source": [
    "from PIL import Image\n",
    "import json\n",
    "import os\n",
    "import random\n",
    "import pandas as pd\n",
    "import re"
   ]
  },
  {
   "cell_type": "code",
   "execution_count": 20,
   "metadata": {},
   "outputs": [],
   "source": [
    "image_folder='/rcfs/projects/steel_thread/hora620/hf/hub/datasets--CrowdAILab--scicap/snapshots/203770e81e7ff9facdd4a1b35048a3e3abf5ebcf/share-task-img-mask/arxiv/val'"
   ]
  },
  {
   "cell_type": "code",
   "execution_count": null,
   "metadata": {},
   "outputs": [],
   "source": [
    "data_path='/rcfs/projects/steel_thread/hora620/hf/hub/datasets--CrowdAILab--scicap/snapshots/203770e81e7ff9facdd4a1b35048a3e3abf5ebcf/val.json'\n",
    "scicap_val = json.load(open(data_path, \"r\"))\n",
    "scicap_val_images=pd.DataFrame(scicap_val['images'])\n",
    "\n",
    "scicap_val_annotations=pd.DataFrame(scicap_val['annotations'])\n",
    "\n",
    "\n",
    "data_path='/qfs/projects/steel_thread/hora620/DevHub/scientific-instruction-tuning/Grounded-Segment-Anything/results/scicap_val/type_clf_llava_scicap_val_501_v2.json'\n",
    "scipcap_preds = json.load(open(data_path, \"r\"))"
   ]
  },
  {
   "cell_type": "code",
   "execution_count": 10,
   "metadata": {},
   "outputs": [],
   "source": [
    "\n",
    "data_path=\"/rcfs/projects/steel_thread/models/LLAVA-7b-pretrain-scitune-333472-v2-13B/scicap/llava_val_scicap_prediction_501_v2.jsonl\"\n",
    "scitune_preds=pd.read_json(data_path,lines=True)\n",
    "# scitune_preds_with_gt=pd.merge(scitune_preds,scicap_val,left_on='question_id',right_on='id',how='inner')\n",
    "# print(scitune_preds_with_gt.shape[0])\n",
    "\n",
    "figure_types=['Graph Plot','Scatterplot','Node Diagram','Equation','Bar Chart']\n",
    "def get_scitune_figure_tye_pred(text):\n",
    "    for k in figure_types:\n",
    "        if k in text:\n",
    "            return k\n",
    "\n",
    "scitune_preds['scitune_figure_type']=scitune_preds['text'].apply(get_scitune_figure_tye_pred)"
   ]
  },
  {
   "cell_type": "code",
   "execution_count": 11,
   "metadata": {},
   "outputs": [],
   "source": [
    "import json\n",
    "data_base_dir='/rcfs/projects/steel_thread/hora620/hf/hub/datasets--CrowdAILab--scicap/snapshots/203770e81e7ff9facdd4a1b35048a3e3abf5ebcf/'\n",
    "with open(os.path.join(data_base_dir, f\"llava_scicap_val_501_v2.json\"), \"r\") as f:\n",
    "        gt_scicap=json.load(f)\n",
    "gt_scicap=pd.DataFrame(gt_scicap)"
   ]
  },
  {
   "cell_type": "code",
   "execution_count": null,
   "metadata": {},
   "outputs": [],
   "source": [
    "gt_scicap.head()"
   ]
  },
  {
   "attachments": {},
   "cell_type": "markdown",
   "metadata": {},
   "source": [
    "## Figure Type Generation Performance"
   ]
  },
  {
   "cell_type": "code",
   "execution_count": null,
   "metadata": {},
   "outputs": [],
   "source": [
    "clip_preds=[]\n",
    "for pred in scipcap_preds:\n",
    "    cip_pred={}\n",
    "    cip_pred['id']=pred['id']\n",
    "    type_clf_df=pd.DataFrame(pred['type_clf'])\n",
    "    #print(type_clf_df.iloc[type_clf_df['score'].idxmax()])\n",
    "    cip_pred['clip_figure_type']=type_clf_df.iloc[type_clf_df['score'].idxmax()]['label']\n",
    "    clip_preds.append(cip_pred)\n",
    "clip_preds=pd.DataFrame(clip_preds)\n",
    "print(clip_preds.shape[0])"
   ]
  },
  {
   "cell_type": "code",
   "execution_count": null,
   "metadata": {},
   "outputs": [],
   "source": [
    "scicap_val_with_preds=pd.merge(scicap_val_images,clip_preds,on='id',how='inner')\n",
    "scicap_val_with_preds=pd.merge(scicap_val_with_preds,scitune_preds,left_on='id',right_on='question_id',how='inner')"
   ]
  },
  {
   "cell_type": "code",
   "execution_count": null,
   "metadata": {},
   "outputs": [],
   "source": [
    "scicap_val_with_preds.head()"
   ]
  },
  {
   "cell_type": "code",
   "execution_count": null,
   "metadata": {},
   "outputs": [],
   "source": [
    "scicap_val_with_preds['clip_accuracy']=(scicap_val_with_preds['figure_type']==scicap_val_with_preds['clip_figure_type']).astype(int)\n",
    "scicap_val_with_preds['scitune_accuracy']=(scicap_val_with_preds['figure_type']==scicap_val_with_preds['scitune_figure_type']).astype(int)"
   ]
  },
  {
   "cell_type": "code",
   "execution_count": null,
   "metadata": {},
   "outputs": [],
   "source": [
    "scicap_val_with_preds['clip_accuracy'].mean(),scicap_val_with_preds['scitune_accuracy'].mean()"
   ]
  },
  {
   "cell_type": "code",
   "execution_count": null,
   "metadata": {},
   "outputs": [],
   "source": [
    "scicap_val_with_preds.groupby('figure_type')['clip_accuracy'].mean(),scicap_val_with_preds.groupby('figure_type')['scitune_accuracy'].mean()"
   ]
  },
  {
   "attachments": {},
   "cell_type": "markdown",
   "metadata": {},
   "source": [
    "## Figure Captioning"
   ]
  },
  {
   "cell_type": "code",
   "execution_count": 3,
   "metadata": {},
   "outputs": [
    {
     "name": "stderr",
     "output_type": "stream",
     "text": [
      "/people/hora620/.conda/envs/llava-v1/lib/python3.9/site-packages/tqdm/auto.py:21: TqdmWarning: IProgress not found. Please update jupyter and ipywidgets. See https://ipywidgets.readthedocs.io/en/stable/user_install.html\n",
      "  from .autonotebook import tqdm as notebook_tqdm\n"
     ]
    }
   ],
   "source": [
    "import evaluate\n",
    "from tqdm import tqdm\n",
    "tqdm.pandas()\n"
   ]
  },
  {
   "cell_type": "code",
   "execution_count": 9,
   "metadata": {},
   "outputs": [],
   "source": [
    "\n",
    "bleu_metric = evaluate.load('google_bleu')\n",
    "rouge_metric = evaluate.load('rouge')\n"
   ]
  },
  {
   "cell_type": "code",
   "execution_count": null,
   "metadata": {},
   "outputs": [],
   "source": [
    "data_path='/qfs/projects/steel_thread/hora620/DevHub/scientific-instruction-tuning/Grounded-Segment-Anything/results/scicap_val/captions_llava_scicap_val_501_v2.json'\n",
    "blip_preds = pd.DataFrame(json.load(open(data_path, \"r\")))"
   ]
  },
  {
   "cell_type": "code",
   "execution_count": null,
   "metadata": {},
   "outputs": [],
   "source": [
    "scicap_val_images.head()"
   ]
  },
  {
   "cell_type": "code",
   "execution_count": null,
   "metadata": {},
   "outputs": [],
   "source": [
    "scitune_preds_with_caption=pd.merge(scitune_preds,blip_preds,left_on='question_id',right_on='id')\n",
    "scitune_preds_with_caption=pd.merge(scitune_preds_with_caption,scicap_val_annotations[['image_id','caption_no_index','paragraph','mention']],left_on='question_id',right_on='image_id')\n",
    "scitune_preds_with_caption=pd.merge(scitune_preds_with_caption,scicap_val_images[['id','figure_type','ocr']],left_on='question_id',right_on='id')"
   ]
  },
  {
   "cell_type": "code",
   "execution_count": null,
   "metadata": {},
   "outputs": [],
   "source": [
    "scitune_preds_with_caption['scitune_text']=scitune_preds_with_caption['text'].apply(lambda x:x.split('\\n')[0])"
   ]
  },
  {
   "cell_type": "code",
   "execution_count": null,
   "metadata": {},
   "outputs": [],
   "source": [
    "scitune_preds_with_caption.head()"
   ]
  },
  {
   "cell_type": "code",
   "execution_count": null,
   "metadata": {},
   "outputs": [],
   "source": [
    "\n",
    "## only BLEU + ROUGE for time\n",
    "metric_types = ['bleu', 'rouge']\n",
    "metrics = [bleu_metric, rouge_metric]\n",
    "metric_kwargs = [{}, {}]\n",
    "metric_keys = ['google_bleu', 'rougeL']\n",
    "\n",
    "pred_output_types = ['scitune_text', 'caption']\n",
    "for pred_output_type in pred_output_types:\n",
    "    for metric_type, metric_kwarg, metric, metric_key in zip(metric_types, metric_kwargs, metrics, metric_keys):\n",
    "        metric_col = f'{pred_output_type}_{metric_type}'\n",
    "#         if(metric_col not in results_outputs_with_metadata.columns):\n",
    "        scitune_preds_with_caption = scitune_preds_with_caption.assign(**{\n",
    "            metric_col : scitune_preds_with_caption.progress_apply(\n",
    "                lambda x: metric.compute(\n",
    "                    predictions=[x.loc[pred_output_type]], \n",
    "                    references=[[x.loc['caption_no_index']]],\n",
    "                    **metric_kwarg\n",
    "                )[metric_key], axis=1\n",
    "            )\n",
    "        })\n"
   ]
  },
  {
   "cell_type": "code",
   "execution_count": null,
   "metadata": {},
   "outputs": [],
   "source": [
    "\n",
    "## just the caption\n",
    "print(\"SciTune BLUE\",scitune_preds_with_caption['scitune_text_bleu'].mean(),scitune_preds_with_caption['scitune_text_bleu'].std())\n",
    "print(\"SciTune ROUGE\",scitune_preds_with_caption['scitune_text_rouge'].mean(),scitune_preds_with_caption['scitune_text_rouge'].std())\n",
    "\n",
    "print(\"BLIP BLUE\",scitune_preds_with_caption['caption_bleu'].mean(),scitune_preds_with_caption['caption_bleu'].std())\n",
    "print(\"BLIP ROUGE\",scitune_preds_with_caption['caption_rouge'].mean(),scitune_preds_with_caption['caption_rouge'].std())"
   ]
  },
  {
   "cell_type": "code",
   "execution_count": null,
   "metadata": {},
   "outputs": [],
   "source": [
    "# ## caption + OCR + mentions\n",
    "# print(\"SciTune BLUE\",scitune_preds_with_caption['text_bleu'].mean())\n",
    "# print(\"SciTune ROUGE\",scitune_preds_with_caption['text_rouge'].mean())\n",
    "\n",
    "# print(\"BLIP BLUE\",scitune_preds_with_caption['caption_bleu'].mean())\n",
    "# print(\"BLIP ROUGE\",scitune_preds_with_caption['caption_rouge'].mean())"
   ]
  },
  {
   "cell_type": "code",
   "execution_count": null,
   "metadata": {},
   "outputs": [],
   "source": [
    "X=scitune_preds_with_caption[scitune_preds_with_caption['scitune_text_rouge']>0.25].sort_values(by='scitune_text_rouge',ascending=False)"
   ]
  },
  {
   "cell_type": "code",
   "execution_count": null,
   "metadata": {},
   "outputs": [],
   "source": [
    "index=20\n",
    "print(\"Image ID: \",X.iloc[index]['id'])\n",
    "print(\"GT: \",X.iloc[index]['caption_no_index'])\n",
    "print(\"BLIP: \",X.iloc[index]['caption'])\n",
    "print(\"SciTune: \",X.iloc[index]['scitune_text'])\n",
    "image_file=X.iloc[index]['image']\n",
    "image = Image.open(os.path.join(image_folder, image_file)).convert('RGB')\n",
    "image"
   ]
  },
  {
   "cell_type": "markdown",
   "metadata": {},
   "source": [
    "## OCR and Paragraph Mentions"
   ]
  },
  {
   "cell_type": "code",
   "execution_count": null,
   "metadata": {},
   "outputs": [],
   "source": [
    "gt_scicap.iloc[0]['conversations']"
   ]
  },
  {
   "cell_type": "code",
   "execution_count": 12,
   "metadata": {},
   "outputs": [],
   "source": [
    "scitune_preds_with_gt_scicap=pd.merge(scitune_preds,gt_scicap,left_on='question_id',right_on='id')"
   ]
  },
  {
   "cell_type": "code",
   "execution_count": 13,
   "metadata": {},
   "outputs": [],
   "source": [
    "\n",
    "\n",
    "scitune_preds_with_gt_scicap['gt_text']=scitune_preds_with_gt_scicap['conversations'].apply(lambda x: x[1]['value'])"
   ]
  },
  {
   "cell_type": "code",
   "execution_count": 14,
   "metadata": {},
   "outputs": [],
   "source": [
    "scitune_preds_with_gt_scicap['scitune_text']=scitune_preds_with_gt_scicap['text'].apply(lambda x:\"\\n\".join(x.split('\\n')[1:]))\n",
    "scitune_preds_with_gt_scicap['scitune_gt_text']=scitune_preds_with_gt_scicap['gt_text'].apply(lambda x:\"\\n\".join(x.split('\\n')[1:]))"
   ]
  },
  {
   "cell_type": "code",
   "execution_count": 15,
   "metadata": {},
   "outputs": [
    {
     "data": {
      "text/html": [
       "<div>\n",
       "<style scoped>\n",
       "    .dataframe tbody tr th:only-of-type {\n",
       "        vertical-align: middle;\n",
       "    }\n",
       "\n",
       "    .dataframe tbody tr th {\n",
       "        vertical-align: top;\n",
       "    }\n",
       "\n",
       "    .dataframe thead th {\n",
       "        text-align: right;\n",
       "    }\n",
       "</style>\n",
       "<table border=\"1\" class=\"dataframe\">\n",
       "  <thead>\n",
       "    <tr style=\"text-align: right;\">\n",
       "      <th></th>\n",
       "      <th>question_id</th>\n",
       "      <th>prompt</th>\n",
       "      <th>text</th>\n",
       "      <th>answer_id</th>\n",
       "      <th>model_id</th>\n",
       "      <th>metadata</th>\n",
       "      <th>scitune_figure_type</th>\n",
       "      <th>id</th>\n",
       "      <th>image</th>\n",
       "      <th>conversations</th>\n",
       "      <th>gt_text</th>\n",
       "      <th>scitune_text</th>\n",
       "      <th>scitune_gt_text</th>\n",
       "    </tr>\n",
       "  </thead>\n",
       "  <tbody>\n",
       "    <tr>\n",
       "      <th>0</th>\n",
       "      <td>7424363</td>\n",
       "      <td>Give an elaborate explanation of the image you...</td>\n",
       "      <td>Assistant: Graph Plot The ratio of the correct...</td>\n",
       "      <td>ddSz3X9pwrnABaiUxckch2</td>\n",
       "      <td>/rcfs/projects/steel_thread/models/LLAVA/13B</td>\n",
       "      <td>{}</td>\n",
       "      <td>Graph Plot</td>\n",
       "      <td>7424363</td>\n",
       "      <td>000007424363.png</td>\n",
       "      <td>[{'from': 'human', 'value': 'Give an elaborate...</td>\n",
       "      <td>Graph Plot The coefficient of Pe2 in the small...</td>\n",
       "      <td>\\nThe ratio of the corrected flux to the origi...</td>\n",
       "      <td>\\nSince j m,n increases monotonically with n, ...</td>\n",
       "    </tr>\n",
       "    <tr>\n",
       "      <th>1</th>\n",
       "      <td>7424364</td>\n",
       "      <td>Walk through the important details of the imag...</td>\n",
       "      <td>Assistant: Graph Plot Accuracy performance of ...</td>\n",
       "      <td>e56gfZ4dQFCkdXePvaLTvw</td>\n",
       "      <td>/rcfs/projects/steel_thread/models/LLAVA/13B</td>\n",
       "      <td>{}</td>\n",
       "      <td>Graph Plot</td>\n",
       "      <td>7424364</td>\n",
       "      <td>000007424364.png</td>\n",
       "      <td>[{'from': 'human', 'value': 'Walk through the ...</td>\n",
       "      <td>Graph Plot The accuracy score for different wi...</td>\n",
       "      <td>==\\nThe results of Graph Plot. 3 show that the...</td>\n",
       "      <td>Wing w Sue\\n1) Implications of Filtered Window...</td>\n",
       "    </tr>\n",
       "    <tr>\n",
       "      <th>2</th>\n",
       "      <td>7424365</td>\n",
       "      <td>Clarify the contents of the displayed image wi...</td>\n",
       "      <td>Assistant: Graph Plot The ratio between the th...</td>\n",
       "      <td>ZQ66THMkfV3S6RtjYbpsYx</td>\n",
       "      <td>/rcfs/projects/steel_thread/models/LLAVA/13B</td>\n",
       "      <td>{}</td>\n",
       "      <td>Graph Plot</td>\n",
       "      <td>7424365</td>\n",
       "      <td>000007424365.png</td>\n",
       "      <td>[{'from': 'human', 'value': 'Clarify the conte...</td>\n",
       "      <td>Graph Plot Frequency shift due to a neutron ED...</td>\n",
       "      <td>\\nThe second example comes from the exact solu...</td>\n",
       "      <td>1z;\\t(rac\\t1\\tD\\nBeyond the J 0 approximation,...</td>\n",
       "    </tr>\n",
       "    <tr>\n",
       "      <th>3</th>\n",
       "      <td>7424366</td>\n",
       "      <td>Examine the image closely and share its detail...</td>\n",
       "      <td>Assistant: Graph Plot Time-resolved measuremen...</td>\n",
       "      <td>5d58rpNiTocgec2tDyBGor</td>\n",
       "      <td>/rcfs/projects/steel_thread/models/LLAVA/13B</td>\n",
       "      <td>{}</td>\n",
       "      <td>Graph Plot</td>\n",
       "      <td>7424366</td>\n",
       "      <td>000007424366.png</td>\n",
       "      <td>[{'from': 'human', 'value': 'Examine the image...</td>\n",
       "      <td>Graph Plot Comparison of LDA band structure an...</td>\n",
       "      <td>\\nIn Graph Plot. 8, we show the time-resolved ...</td>\n",
       "      <td>08:-*000:\\tI8e4\\tSee]\\tW\\tPa;-*000:\\tJ0j8;\\t80...</td>\n",
       "    </tr>\n",
       "    <tr>\n",
       "      <th>4</th>\n",
       "      <td>7424367</td>\n",
       "      <td>Clarify the contents of the displayed image wi...</td>\n",
       "      <td>Assistant: Scatterplot Hα equivalent width ver...</td>\n",
       "      <td>hyZfAnK78rCWpELwpjTnR5</td>\n",
       "      <td>/rcfs/projects/steel_thread/models/LLAVA/13B</td>\n",
       "      <td>{}</td>\n",
       "      <td>Scatterplot</td>\n",
       "      <td>7424367</td>\n",
       "      <td>000007424367.png</td>\n",
       "      <td>[{'from': 'human', 'value': 'Clarify the conte...</td>\n",
       "      <td>Scatterplot The difference between the measure...</td>\n",
       "      <td>\\nWe then measured the equivalent widths of th...</td>\n",
       "      <td>log( ZHa)\\t1.0\\t38.4\\tlog(&gt;ua) &lt; 39\\t3\\t0,5\\t0...</td>\n",
       "    </tr>\n",
       "  </tbody>\n",
       "</table>\n",
       "</div>"
      ],
      "text/plain": [
       "   question_id                                             prompt  \\\n",
       "0      7424363  Give an elaborate explanation of the image you...   \n",
       "1      7424364  Walk through the important details of the imag...   \n",
       "2      7424365  Clarify the contents of the displayed image wi...   \n",
       "3      7424366  Examine the image closely and share its detail...   \n",
       "4      7424367  Clarify the contents of the displayed image wi...   \n",
       "\n",
       "                                                text               answer_id  \\\n",
       "0  Assistant: Graph Plot The ratio of the correct...  ddSz3X9pwrnABaiUxckch2   \n",
       "1  Assistant: Graph Plot Accuracy performance of ...  e56gfZ4dQFCkdXePvaLTvw   \n",
       "2  Assistant: Graph Plot The ratio between the th...  ZQ66THMkfV3S6RtjYbpsYx   \n",
       "3  Assistant: Graph Plot Time-resolved measuremen...  5d58rpNiTocgec2tDyBGor   \n",
       "4  Assistant: Scatterplot Hα equivalent width ver...  hyZfAnK78rCWpELwpjTnR5   \n",
       "\n",
       "                                       model_id metadata scitune_figure_type  \\\n",
       "0  /rcfs/projects/steel_thread/models/LLAVA/13B       {}          Graph Plot   \n",
       "1  /rcfs/projects/steel_thread/models/LLAVA/13B       {}          Graph Plot   \n",
       "2  /rcfs/projects/steel_thread/models/LLAVA/13B       {}          Graph Plot   \n",
       "3  /rcfs/projects/steel_thread/models/LLAVA/13B       {}          Graph Plot   \n",
       "4  /rcfs/projects/steel_thread/models/LLAVA/13B       {}         Scatterplot   \n",
       "\n",
       "        id             image  \\\n",
       "0  7424363  000007424363.png   \n",
       "1  7424364  000007424364.png   \n",
       "2  7424365  000007424365.png   \n",
       "3  7424366  000007424366.png   \n",
       "4  7424367  000007424367.png   \n",
       "\n",
       "                                       conversations  \\\n",
       "0  [{'from': 'human', 'value': 'Give an elaborate...   \n",
       "1  [{'from': 'human', 'value': 'Walk through the ...   \n",
       "2  [{'from': 'human', 'value': 'Clarify the conte...   \n",
       "3  [{'from': 'human', 'value': 'Examine the image...   \n",
       "4  [{'from': 'human', 'value': 'Clarify the conte...   \n",
       "\n",
       "                                             gt_text  \\\n",
       "0  Graph Plot The coefficient of Pe2 in the small...   \n",
       "1  Graph Plot The accuracy score for different wi...   \n",
       "2  Graph Plot Frequency shift due to a neutron ED...   \n",
       "3  Graph Plot Comparison of LDA band structure an...   \n",
       "4  Scatterplot The difference between the measure...   \n",
       "\n",
       "                                        scitune_text  \\\n",
       "0  \\nThe ratio of the corrected flux to the origi...   \n",
       "1  ==\\nThe results of Graph Plot. 3 show that the...   \n",
       "2  \\nThe second example comes from the exact solu...   \n",
       "3  \\nIn Graph Plot. 8, we show the time-resolved ...   \n",
       "4  \\nWe then measured the equivalent widths of th...   \n",
       "\n",
       "                                     scitune_gt_text  \n",
       "0  \\nSince j m,n increases monotonically with n, ...  \n",
       "1  Wing w Sue\\n1) Implications of Filtered Window...  \n",
       "2  1z;\\t(rac\\t1\\tD\\nBeyond the J 0 approximation,...  \n",
       "3  08:-*000:\\tI8e4\\tSee]\\tW\\tPa;-*000:\\tJ0j8;\\t80...  \n",
       "4  log( ZHa)\\t1.0\\t38.4\\tlog(>ua) < 39\\t3\\t0,5\\t0...  "
      ]
     },
     "execution_count": 15,
     "metadata": {},
     "output_type": "execute_result"
    }
   ],
   "source": [
    "scitune_preds_with_gt_scicap.head()"
   ]
  },
  {
   "cell_type": "code",
   "execution_count": 16,
   "metadata": {},
   "outputs": [
    {
     "name": "stderr",
     "output_type": "stream",
     "text": [
      "100%|██████████| 501/501 [00:07<00:00, 66.32it/s]\n",
      "100%|██████████| 501/501 [01:38<00:00,  5.09it/s]\n"
     ]
    }
   ],
   "source": [
    "## only BLEU + ROUGE for time\n",
    "metric_types = ['bleu', 'rouge']\n",
    "metrics = [bleu_metric, rouge_metric]\n",
    "metric_kwargs = [{}, {}]\n",
    "metric_keys = ['google_bleu', 'rougeL']\n",
    "\n",
    "pred_output_types = ['scitune_text']\n",
    "for pred_output_type in pred_output_types:\n",
    "    for metric_type, metric_kwarg, metric, metric_key in zip(metric_types, metric_kwargs, metrics, metric_keys):\n",
    "        metric_col = f'{pred_output_type}_{metric_type}'\n",
    "#         if(metric_col not in results_outputs_with_metadata.columns):\n",
    "        scitune_preds_with_gt_scicap = scitune_preds_with_gt_scicap.assign(**{\n",
    "            metric_col : scitune_preds_with_gt_scicap.progress_apply(\n",
    "                lambda x: metric.compute(\n",
    "                    predictions=[x.loc[pred_output_type]], \n",
    "                    references=[[x.loc['scitune_gt_text']]],\n",
    "                    **metric_kwarg\n",
    "                )[metric_key], axis=1\n",
    "            )\n",
    "        })"
   ]
  },
  {
   "cell_type": "code",
   "execution_count": 37,
   "metadata": {},
   "outputs": [
    {
     "name": "stdout",
     "output_type": "stream",
     "text": [
      "SciTune BLUE 0.0621693370160681 0.029053846938495647\n",
      "SciTune ROUGE 0.15243254078579352 0.04838680702537634\n"
     ]
    }
   ],
   "source": [
    "print(\"SciTune BLUE\",scitune_preds_with_gt_scicap['scitune_text_bleu'].mean(),scitune_preds_with_gt_scicap['scitune_text_bleu'].std())\n",
    "print(\"SciTune ROUGE\",scitune_preds_with_gt_scicap['scitune_text_rouge'].mean(),scitune_preds_with_gt_scicap['scitune_text_rouge'].std())"
   ]
  },
  {
   "cell_type": "code",
   "execution_count": 29,
   "metadata": {},
   "outputs": [],
   "source": [
    "X=scitune_preds_with_gt_scicap[scitune_preds_with_gt_scicap['scitune_text_rouge']>0.2].sort_values(by='scitune_text_rouge',ascending=False)"
   ]
  },
  {
   "cell_type": "code",
   "execution_count": 31,
   "metadata": {},
   "outputs": [
    {
     "data": {
      "text/html": [
       "<div>\n",
       "<style scoped>\n",
       "    .dataframe tbody tr th:only-of-type {\n",
       "        vertical-align: middle;\n",
       "    }\n",
       "\n",
       "    .dataframe tbody tr th {\n",
       "        vertical-align: top;\n",
       "    }\n",
       "\n",
       "    .dataframe thead th {\n",
       "        text-align: right;\n",
       "    }\n",
       "</style>\n",
       "<table border=\"1\" class=\"dataframe\">\n",
       "  <thead>\n",
       "    <tr style=\"text-align: right;\">\n",
       "      <th></th>\n",
       "      <th>question_id</th>\n",
       "      <th>prompt</th>\n",
       "      <th>text</th>\n",
       "      <th>answer_id</th>\n",
       "      <th>model_id</th>\n",
       "      <th>metadata</th>\n",
       "      <th>scitune_figure_type</th>\n",
       "      <th>id</th>\n",
       "      <th>image</th>\n",
       "      <th>conversations</th>\n",
       "      <th>gt_text</th>\n",
       "      <th>scitune_text</th>\n",
       "      <th>scitune_gt_text</th>\n",
       "      <th>scitune_text_bleu</th>\n",
       "      <th>scitune_text_rouge</th>\n",
       "    </tr>\n",
       "  </thead>\n",
       "  <tbody>\n",
       "    <tr>\n",
       "      <th>154</th>\n",
       "      <td>7424517</td>\n",
       "      <td>Examine the image closely and share its detail...</td>\n",
       "      <td>Assistant: Graph Plot The distribution of the ...</td>\n",
       "      <td>WSgCoHVeBbvEjJ6tT33Nhb</td>\n",
       "      <td>/rcfs/projects/steel_thread/models/LLAVA/13B</td>\n",
       "      <td>{}</td>\n",
       "      <td>Graph Plot</td>\n",
       "      <td>7424517</td>\n",
       "      <td>000007424517.png</td>\n",
       "      <td>[{'from': 'human', 'value': 'Examine the image...</td>\n",
       "      <td>Graph Plot Form of the potential Φ̃ST (x) for ...</td>\n",
       "      <td>\\nThe number of bins is shown in Graph Plot 3....</td>\n",
       "      <td>\\nwhich ensures that the equations for f A , f...</td>\n",
       "      <td>0.093023</td>\n",
       "      <td>0.359551</td>\n",
       "    </tr>\n",
       "    <tr>\n",
       "      <th>499</th>\n",
       "      <td>7424862</td>\n",
       "      <td>Offer a thorough analysis of the image.\\n&lt;image&gt;</td>\n",
       "      <td>Assistant: Graph Plot Scale vs. Parallel Tasks...</td>\n",
       "      <td>WTrrZQNf7oACu7D6p5mJgT</td>\n",
       "      <td>/rcfs/projects/steel_thread/models/LLAVA/13B</td>\n",
       "      <td>{}</td>\n",
       "      <td>Graph Plot</td>\n",
       "      <td>7424862</td>\n",
       "      <td>000007424862.png</td>\n",
       "      <td>[{'from': 'human', 'value': 'Offer a thorough ...</td>\n",
       "      <td>Graph Plot The strong scaling test simulates a...</td>\n",
       "      <td>\\nGraph Plot 1 shows the relationship between ...</td>\n",
       "      <td>SJt; #0\\nGraph Plot 4 shows the performance of...</td>\n",
       "      <td>0.114545</td>\n",
       "      <td>0.289720</td>\n",
       "    </tr>\n",
       "    <tr>\n",
       "      <th>295</th>\n",
       "      <td>7424658</td>\n",
       "      <td>Narrate the contents of the image with precisi...</td>\n",
       "      <td>Assistant: Graph Plot The probability distribu...</td>\n",
       "      <td>iSTZKZzFfcXwccceAWXDgg</td>\n",
       "      <td>/rcfs/projects/steel_thread/models/LLAVA/13B</td>\n",
       "      <td>{}</td>\n",
       "      <td>Graph Plot</td>\n",
       "      <td>7424658</td>\n",
       "      <td>000007424658.png</td>\n",
       "      <td>[{'from': 'human', 'value': 'Narrate the conte...</td>\n",
       "      <td>Graph Plot The generalized exponential series ...</td>\n",
       "      <td>\\nThe probability distribution of the successe...</td>\n",
       "      <td>LAJ\\tt1\\ttAr\\t#AJ\\t&amp;al\"6\\t4A2\\t#A`\\t#Ab\\tta4}\\...</td>\n",
       "      <td>0.063518</td>\n",
       "      <td>0.281250</td>\n",
       "    </tr>\n",
       "    <tr>\n",
       "      <th>441</th>\n",
       "      <td>7424804</td>\n",
       "      <td>Offer a thorough analysis of the image.\\n&lt;image&gt;</td>\n",
       "      <td>Assistant: Graph Plot Distance correlation bet...</td>\n",
       "      <td>6MkrtpfZNZSxZ6ws9yCEjQ</td>\n",
       "      <td>/rcfs/projects/steel_thread/models/LLAVA/13B</td>\n",
       "      <td>{}</td>\n",
       "      <td>Graph Plot</td>\n",
       "      <td>7424804</td>\n",
       "      <td>000007424804.png</td>\n",
       "      <td>[{'from': 'human', 'value': 'Offer a thorough ...</td>\n",
       "      <td>Graph Plot Distance between matched groups in ...</td>\n",
       "      <td>-2000\\t1500\\t1000\\t1000\\tDisjted griug matched...</td>\n",
       "      <td>ZUUU\\t1500\\tHoan 1RJ\\t\\t1000\\t500\\tDlst matche...</td>\n",
       "      <td>0.143369</td>\n",
       "      <td>0.274510</td>\n",
       "    </tr>\n",
       "    <tr>\n",
       "      <th>138</th>\n",
       "      <td>7424501</td>\n",
       "      <td>Clarify the contents of the displayed image wi...</td>\n",
       "      <td>Assistant: Scatterplot The convergence of the ...</td>\n",
       "      <td>5KLthUdLThLYoGhMUZCev7</td>\n",
       "      <td>/rcfs/projects/steel_thread/models/LLAVA/13B</td>\n",
       "      <td>{}</td>\n",
       "      <td>Scatterplot</td>\n",
       "      <td>7424501</td>\n",
       "      <td>000007424501.png</td>\n",
       "      <td>[{'from': 'human', 'value': 'Clarify the conte...</td>\n",
       "      <td>Scatterplot The trajectory of the error ek for...</td>\n",
       "      <td>\\nThe convergence of the optimization algorith...</td>\n",
       "      <td>\\nWhile a rigorous proof of the convergence of...</td>\n",
       "      <td>0.077889</td>\n",
       "      <td>0.269006</td>\n",
       "    </tr>\n",
       "    <tr>\n",
       "      <th>426</th>\n",
       "      <td>7424789</td>\n",
       "      <td>Share a comprehensive rundown of the presented...</td>\n",
       "      <td>Assistant: Graph Plot The average success rate...</td>\n",
       "      <td>ffG9v5NbPiX9DanWHTm4BR</td>\n",
       "      <td>/rcfs/projects/steel_thread/models/LLAVA/13B</td>\n",
       "      <td>{}</td>\n",
       "      <td>Graph Plot</td>\n",
       "      <td>7424789</td>\n",
       "      <td>000007424789.png</td>\n",
       "      <td>[{'from': 'human', 'value': 'Share a comprehen...</td>\n",
       "      <td>Graph Plot Effect of the jitter on the perform...</td>\n",
       "      <td>The answer is The delay is a critical factor ...</td>\n",
       "      <td>shldt\\tXdaWA\\tSnd ceap rm\\nIn Graph Plot 3, th...</td>\n",
       "      <td>0.119048</td>\n",
       "      <td>0.262295</td>\n",
       "    </tr>\n",
       "  </tbody>\n",
       "</table>\n",
       "</div>"
      ],
      "text/plain": [
       "     question_id                                             prompt  \\\n",
       "154      7424517  Examine the image closely and share its detail...   \n",
       "499      7424862   Offer a thorough analysis of the image.\\n<image>   \n",
       "295      7424658  Narrate the contents of the image with precisi...   \n",
       "441      7424804   Offer a thorough analysis of the image.\\n<image>   \n",
       "138      7424501  Clarify the contents of the displayed image wi...   \n",
       "426      7424789  Share a comprehensive rundown of the presented...   \n",
       "\n",
       "                                                  text  \\\n",
       "154  Assistant: Graph Plot The distribution of the ...   \n",
       "499  Assistant: Graph Plot Scale vs. Parallel Tasks...   \n",
       "295  Assistant: Graph Plot The probability distribu...   \n",
       "441  Assistant: Graph Plot Distance correlation bet...   \n",
       "138  Assistant: Scatterplot The convergence of the ...   \n",
       "426  Assistant: Graph Plot The average success rate...   \n",
       "\n",
       "                  answer_id                                      model_id  \\\n",
       "154  WSgCoHVeBbvEjJ6tT33Nhb  /rcfs/projects/steel_thread/models/LLAVA/13B   \n",
       "499  WTrrZQNf7oACu7D6p5mJgT  /rcfs/projects/steel_thread/models/LLAVA/13B   \n",
       "295  iSTZKZzFfcXwccceAWXDgg  /rcfs/projects/steel_thread/models/LLAVA/13B   \n",
       "441  6MkrtpfZNZSxZ6ws9yCEjQ  /rcfs/projects/steel_thread/models/LLAVA/13B   \n",
       "138  5KLthUdLThLYoGhMUZCev7  /rcfs/projects/steel_thread/models/LLAVA/13B   \n",
       "426  ffG9v5NbPiX9DanWHTm4BR  /rcfs/projects/steel_thread/models/LLAVA/13B   \n",
       "\n",
       "    metadata scitune_figure_type       id             image  \\\n",
       "154       {}          Graph Plot  7424517  000007424517.png   \n",
       "499       {}          Graph Plot  7424862  000007424862.png   \n",
       "295       {}          Graph Plot  7424658  000007424658.png   \n",
       "441       {}          Graph Plot  7424804  000007424804.png   \n",
       "138       {}         Scatterplot  7424501  000007424501.png   \n",
       "426       {}          Graph Plot  7424789  000007424789.png   \n",
       "\n",
       "                                         conversations  \\\n",
       "154  [{'from': 'human', 'value': 'Examine the image...   \n",
       "499  [{'from': 'human', 'value': 'Offer a thorough ...   \n",
       "295  [{'from': 'human', 'value': 'Narrate the conte...   \n",
       "441  [{'from': 'human', 'value': 'Offer a thorough ...   \n",
       "138  [{'from': 'human', 'value': 'Clarify the conte...   \n",
       "426  [{'from': 'human', 'value': 'Share a comprehen...   \n",
       "\n",
       "                                               gt_text  \\\n",
       "154  Graph Plot Form of the potential Φ̃ST (x) for ...   \n",
       "499  Graph Plot The strong scaling test simulates a...   \n",
       "295  Graph Plot The generalized exponential series ...   \n",
       "441  Graph Plot Distance between matched groups in ...   \n",
       "138  Scatterplot The trajectory of the error ek for...   \n",
       "426  Graph Plot Effect of the jitter on the perform...   \n",
       "\n",
       "                                          scitune_text  \\\n",
       "154  \\nThe number of bins is shown in Graph Plot 3....   \n",
       "499  \\nGraph Plot 1 shows the relationship between ...   \n",
       "295  \\nThe probability distribution of the successe...   \n",
       "441  -2000\\t1500\\t1000\\t1000\\tDisjted griug matched...   \n",
       "138  \\nThe convergence of the optimization algorith...   \n",
       "426   The answer is The delay is a critical factor ...   \n",
       "\n",
       "                                       scitune_gt_text  scitune_text_bleu  \\\n",
       "154  \\nwhich ensures that the equations for f A , f...           0.093023   \n",
       "499  SJt; #0\\nGraph Plot 4 shows the performance of...           0.114545   \n",
       "295  LAJ\\tt1\\ttAr\\t#AJ\\t&al\"6\\t4A2\\t#A`\\t#Ab\\tta4}\\...           0.063518   \n",
       "441  ZUUU\\t1500\\tHoan 1RJ\\t\\t1000\\t500\\tDlst matche...           0.143369   \n",
       "138  \\nWhile a rigorous proof of the convergence of...           0.077889   \n",
       "426  shldt\\tXdaWA\\tSnd ceap rm\\nIn Graph Plot 3, th...           0.119048   \n",
       "\n",
       "     scitune_text_rouge  \n",
       "154            0.359551  \n",
       "499            0.289720  \n",
       "295            0.281250  \n",
       "441            0.274510  \n",
       "138            0.269006  \n",
       "426            0.262295  "
      ]
     },
     "execution_count": 31,
     "metadata": {},
     "output_type": "execute_result"
    }
   ],
   "source": [
    "X.head(6)"
   ]
  },
  {
   "cell_type": "code",
   "execution_count": 53,
   "metadata": {},
   "outputs": [
    {
     "name": "stdout",
     "output_type": "stream",
     "text": [
      "Image ID:  7424534\n",
      "GT:  Venices\n",
      "The graphs are generated by using the following method. i) In a square area we select n points independently, uniformly at random, where n is the size of the graph. ii) Using the first n − 1 points we compute a Delaunay triangulation. Then we add n-th point as Door vertex as an auxiliary vertex to the closest random vertex. For this simulation, we generated 50 random Delaunay graphs using the described method for each vertex set size, n = 3, . . . , 200. Then, for each input graph, we measured the number of LCM-cycles performed by both the PACK and the BLOCK algorithms. Then we computed the average runtimes of the 50 runs of both algorithms for each input size, n = 3, . . . , 200. Graph Plot 3 shows the simulation results. The simulations are backing up the linear runtime for the BLOCK algorithm. For the PACK algorithm, the simulations suggest quadratic runtime.\n",
      "Graph Plot 3 shows the simulation results.\n",
      "SciTune:  \n",
      "We now show that the lower bound for the approximate algorithm is tight. To do this we compare the running times of the approximate algorithm with the running times of the exact algorithm on the complete graph. The running times of the algorithms are plotted against the number of vertices in Graph Plot 1.\n",
      "We now show that the lower bound for the approximate algorithm is tight.\n",
      "The running times of the algorithms are plotted against the number of vertices in Graph Plot 1.\n",
      " The answer is 20. 21.\n"
     ]
    },
    {
     "data": {
      "image/png": "[encoded data removed]",
      "text/plain": [
       "<PIL.Image.Image image mode=RGB size=517x417>"
      ]
     },
     "execution_count": 53,
     "metadata": {},
     "output_type": "execute_result"
    }
   ],
   "source": [
    "index=27\n",
    "print(\"Image ID: \",X.iloc[index]['id'])\n",
    "print(\"GT: \",X.iloc[index]['scitune_gt_text'])\n",
    "# print(\"BLIP: \",X.iloc[index]['caption'])\n",
    "print(\"SciTune: \",X.iloc[index]['scitune_text'])\n",
    "image_file=X.iloc[index]['image']\n",
    "image = Image.open(os.path.join(image_folder, image_file)).convert('RGB')\n",
    "image"
   ]
  },
  {
   "cell_type": "code",
   "execution_count": null,
   "metadata": {},
   "outputs": [],
   "source": [
    "\n",
    "results = metric.score_batch_qafacteval([\"This is a source document\"], [[\"This is a summary.\"]], return_qa_pairs=True)\n",
    "score = results[0][0]['qa-eval']['lerc_quip']"
   ]
  }
 ],
 "metadata": {
  "kernelspec": {
   "display_name": "llava",
   "language": "python",
   "name": "python3"
  },
  "language_info": {
   "codemirror_mode": {
    "name": "ipython",
    "version": 3
   },
   "file_extension": ".py",
   "mimetype": "text/x-python",
   "name": "python",
   "nbconvert_exporter": "python",
   "pygments_lexer": "ipython3",
   "version": "3.9.17"
  },
  "orig_nbformat": 4
 },
 "nbformat": 4,
 "nbformat_minor": 2
}
