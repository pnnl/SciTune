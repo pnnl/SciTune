{
 "cells": [
  {
   "cell_type": "code",
   "execution_count": 1,
   "metadata": {},
   "outputs": [],
   "source": [
    "from PIL import Image\n",
    "import json\n",
    "import os\n",
    "import random\n",
    "import pandas as pd\n",
    "import re"
   ]
  },
  {
   "cell_type": "code",
   "execution_count": 2,
   "metadata": {},
   "outputs": [],
   "source": [
    "image_folder='/rcfs/projects/steel_thread/hora620/hf/hub/vistext/data/images'"
   ]
  },
  {
   "cell_type": "code",
   "execution_count": 23,
   "metadata": {},
   "outputs": [],
   "source": [
    "split=\"validation\"#train,test,validation\n",
    "data_path=f'/rcfs/projects/steel_thread/hora620/hf/hub/vistext/data/data_{split}.json'\n",
    "scicap_val = json.load(open(data_path, \"r\"))\n",
    "# scicap_val_images=pd.DataFrame(scicap_val)\n",
    "\n",
    "scicap_val_annotations=pd.DataFrame(scicap_val)\n",
    "\n",
    "\n",
    "# data_path='/qfs/projects/steel_thread/hora620/DevHub/scientific-instruction-tuning/Grounded-Segment-Anything/results/scicap_val/type_clf.json'\n",
    "# scipcap_preds = json.load(open(data_path, \"r\"))"
   ]
  },
  {
   "cell_type": "code",
   "execution_count": 4,
   "metadata": {},
   "outputs": [],
   "source": [
    "\n",
    "data_path=\"/rcfs/projects/steel_thread/models/LLAVA-7b-pretrain-scitune-333472-v2-13B/vistext/llava_val_vistext_prediction_caption_L1_1202.jsonl\"\n",
    "scitune_preds=pd.read_json(data_path,lines=True)\n",
    "# scitune_preds_with_gt=pd.merge(scitune_preds,scicap_val,left_on='question_id',right_on='id',how='inner')\n",
    "# print(scitune_preds_with_gt.shape[0])\n",
    "\n",
    "# figure_types=['Graph Plot','Scatterplot','Node Diagram','Equation','Bar Chart']\n",
    "# def get_scitune_figure_tye_pred(text):\n",
    "#     for k in figure_types:\n",
    "#         if k in text:\n",
    "#             return k\n",
    "\n",
    "# scitune_preds['scitune_figure_type']=scitune_preds['text'].apply(get_scitune_figure_tye_pred)"
   ]
  },
  {
   "attachments": {},
   "cell_type": "markdown",
   "metadata": {},
   "source": [
    "## Figure Type Generation Performance"
   ]
  },
  {
   "cell_type": "code",
   "execution_count": null,
   "metadata": {},
   "outputs": [],
   "source": [
    "clip_preds=[]\n",
    "for pred in scipcap_preds:\n",
    "    cip_pred={}\n",
    "    cip_pred['id']=pred['id']\n",
    "    type_clf_df=pd.DataFrame(pred['type_clf'])\n",
    "    #print(type_clf_df.iloc[type_clf_df['score'].idxmax()])\n",
    "    cip_pred['clip_figure_type']=type_clf_df.iloc[type_clf_df['score'].idxmax()]['label']\n",
    "    clip_preds.append(cip_pred)\n",
    "clip_preds=pd.DataFrame(clip_preds)\n",
    "print(clip_preds.shape[0])"
   ]
  },
  {
   "cell_type": "code",
   "execution_count": null,
   "metadata": {},
   "outputs": [],
   "source": [
    "scicap_val_with_preds=pd.merge(scicap_val_images,clip_preds,on='id',how='inner')\n",
    "scicap_val_with_preds=pd.merge(scicap_val_with_preds,scitune_preds,left_on='id',right_on='question_id',how='inner')"
   ]
  },
  {
   "cell_type": "code",
   "execution_count": null,
   "metadata": {},
   "outputs": [],
   "source": [
    "scicap_val_with_preds.head()"
   ]
  },
  {
   "cell_type": "code",
   "execution_count": null,
   "metadata": {},
   "outputs": [],
   "source": [
    "scicap_val_with_preds['clip_accuracy']=(scicap_val_with_preds['figure_type']==scicap_val_with_preds['clip_figure_type']).astype(int)\n",
    "scicap_val_with_preds['scitune_accuracy']=(scicap_val_with_preds['figure_type']==scicap_val_with_preds['scitune_figure_type']).astype(int)"
   ]
  },
  {
   "cell_type": "code",
   "execution_count": null,
   "metadata": {},
   "outputs": [],
   "source": [
    "scicap_val_with_preds['clip_accuracy'].mean(),scicap_val_with_preds['scitune_accuracy'].mean()"
   ]
  },
  {
   "cell_type": "code",
   "execution_count": null,
   "metadata": {},
   "outputs": [],
   "source": [
    "scicap_val_with_preds.groupby('figure_type')['clip_accuracy'].mean(),scicap_val_with_preds.groupby('figure_type')['scitune_accuracy'].mean()"
   ]
  },
  {
   "attachments": {},
   "cell_type": "markdown",
   "metadata": {},
   "source": [
    "## Figure Captioning"
   ]
  },
  {
   "cell_type": "code",
   "execution_count": 6,
   "metadata": {},
   "outputs": [
    {
     "name": "stderr",
     "output_type": "stream",
     "text": [
      "/people/hora620/.conda/envs/llava/lib/python3.9/site-packages/tqdm/auto.py:21: TqdmWarning: IProgress not found. Please update jupyter and ipywidgets. See https://ipywidgets.readthedocs.io/en/stable/user_install.html\n",
      "  from .autonotebook import tqdm as notebook_tqdm\n"
     ]
    }
   ],
   "source": [
    "import evaluate\n",
    "from tqdm import tqdm\n",
    "tqdm.pandas()\n",
    "bleu_metric = evaluate.load('google_bleu')\n",
    "rouge_metric = evaluate.load('rouge')\n"
   ]
  },
  {
   "cell_type": "code",
   "execution_count": 25,
   "metadata": {},
   "outputs": [],
   "source": [
    "data_path='/qfs/projects/steel_thread/hora620/DevHub/scientific-instruction-tuning/Grounded-Segment-Anything/results/vistext_val/captions.json'\n",
    "blip_preds = pd.DataFrame(json.load(open(data_path, \"r\")))"
   ]
  },
  {
   "cell_type": "code",
   "execution_count": 26,
   "metadata": {},
   "outputs": [],
   "source": [
    "blip_preds['question_id']=blip_preds['id'].apply(lambda x:int(x.replace('_','')))"
   ]
  },
  {
   "cell_type": "code",
   "execution_count": 48,
   "metadata": {},
   "outputs": [
    {
     "data": {
      "text/html": [
       "<div>\n",
       "<style scoped>\n",
       "    .dataframe tbody tr th:only-of-type {\n",
       "        vertical-align: middle;\n",
       "    }\n",
       "\n",
       "    .dataframe tbody tr th {\n",
       "        vertical-align: top;\n",
       "    }\n",
       "\n",
       "    .dataframe thead th {\n",
       "        text-align: right;\n",
       "    }\n",
       "</style>\n",
       "<table border=\"1\" class=\"dataframe\">\n",
       "  <thead>\n",
       "    <tr style=\"text-align: right;\">\n",
       "      <th></th>\n",
       "      <th>caption_id</th>\n",
       "      <th>img_id</th>\n",
       "      <th>split</th>\n",
       "      <th>scenegraph</th>\n",
       "      <th>datatable</th>\n",
       "      <th>caption_L1</th>\n",
       "      <th>caption_L2L3</th>\n",
       "      <th>L1_properties</th>\n",
       "    </tr>\n",
       "  </thead>\n",
       "  <tbody>\n",
       "    <tr>\n",
       "      <th>0</th>\n",
       "      <td>3_01</td>\n",
       "      <td>3</td>\n",
       "      <td>validation</td>\n",
       "      <td>title Worldwide number of Michelin 's full-tim...</td>\n",
       "      <td>Worldwide number of Michelin 's full-time empl...</td>\n",
       "      <td>This is a area plot labeled Worldwide number o...</td>\n",
       "      <td>employees have remained pretty stable througho...</td>\n",
       "      <td>[area, Worldwide number of Michelin 's full-ti...</td>\n",
       "    </tr>\n",
       "    <tr>\n",
       "      <th>1</th>\n",
       "      <td>3_02</td>\n",
       "      <td>3</td>\n",
       "      <td>validation</td>\n",
       "      <td>title Worldwide number of Michelin 's full-tim...</td>\n",
       "      <td>Worldwide number of Michelin 's full-time empl...</td>\n",
       "      <td>This is a area plot labeled Worldwide number o...</td>\n",
       "      <td>The worldwide number of full time employees is...</td>\n",
       "      <td>[area, Worldwide number of Michelin 's full-ti...</td>\n",
       "    </tr>\n",
       "    <tr>\n",
       "      <th>2</th>\n",
       "      <td>18_01</td>\n",
       "      <td>18</td>\n",
       "      <td>validation</td>\n",
       "      <td>title Top 10 U.S. metro areas by plastic surge...</td>\n",
       "      <td>Top 10 U.S. metro areas by plastic surgeon den...</td>\n",
       "      <td>This bar chart is titled Top 10 U.S. metro are...</td>\n",
       "      <td>The highest density of plastic surgeons is in ...</td>\n",
       "      <td>[bar, Top 10 U.S. metro areas by plastic surge...</td>\n",
       "    </tr>\n",
       "    <tr>\n",
       "      <th>3</th>\n",
       "      <td>18_02</td>\n",
       "      <td>18</td>\n",
       "      <td>validation</td>\n",
       "      <td>title Top 10 U.S. metro areas by plastic surge...</td>\n",
       "      <td>Top 10 U.S. metro areas by plastic surgeon den...</td>\n",
       "      <td>This bar chart is titled Top 10 U.S. metro are...</td>\n",
       "      <td>Every city included had at least 2 plastic sur...</td>\n",
       "      <td>[bar, Top 10 U.S. metro areas by plastic surge...</td>\n",
       "    </tr>\n",
       "    <tr>\n",
       "      <th>4</th>\n",
       "      <td>23_01</td>\n",
       "      <td>23</td>\n",
       "      <td>validation</td>\n",
       "      <td>title Number of passengers traveling with TAP ...</td>\n",
       "      <td>Number of passengers traveling with TAP Portug...</td>\n",
       "      <td>This area diagram is titled Number of passenge...</td>\n",
       "      <td>the number of passengers travelling each year ...</td>\n",
       "      <td>[area, Number of passengers traveling with TAP...</td>\n",
       "    </tr>\n",
       "  </tbody>\n",
       "</table>\n",
       "</div>"
      ],
      "text/plain": [
       "  caption_id img_id       split  \\\n",
       "0       3_01      3  validation   \n",
       "1       3_02      3  validation   \n",
       "2      18_01     18  validation   \n",
       "3      18_02     18  validation   \n",
       "4      23_01     23  validation   \n",
       "\n",
       "                                          scenegraph  \\\n",
       "0  title Worldwide number of Michelin 's full-tim...   \n",
       "1  title Worldwide number of Michelin 's full-tim...   \n",
       "2  title Top 10 U.S. metro areas by plastic surge...   \n",
       "3  title Top 10 U.S. metro areas by plastic surge...   \n",
       "4  title Number of passengers traveling with TAP ...   \n",
       "\n",
       "                                           datatable  \\\n",
       "0  Worldwide number of Michelin 's full-time empl...   \n",
       "1  Worldwide number of Michelin 's full-time empl...   \n",
       "2  Top 10 U.S. metro areas by plastic surgeon den...   \n",
       "3  Top 10 U.S. metro areas by plastic surgeon den...   \n",
       "4  Number of passengers traveling with TAP Portug...   \n",
       "\n",
       "                                          caption_L1  \\\n",
       "0  This is a area plot labeled Worldwide number o...   \n",
       "1  This is a area plot labeled Worldwide number o...   \n",
       "2  This bar chart is titled Top 10 U.S. metro are...   \n",
       "3  This bar chart is titled Top 10 U.S. metro are...   \n",
       "4  This area diagram is titled Number of passenge...   \n",
       "\n",
       "                                        caption_L2L3  \\\n",
       "0  employees have remained pretty stable througho...   \n",
       "1  The worldwide number of full time employees is...   \n",
       "2  The highest density of plastic surgeons is in ...   \n",
       "3  Every city included had at least 2 plastic sur...   \n",
       "4  the number of passengers travelling each year ...   \n",
       "\n",
       "                                       L1_properties  \n",
       "0  [area, Worldwide number of Michelin 's full-ti...  \n",
       "1  [area, Worldwide number of Michelin 's full-ti...  \n",
       "2  [bar, Top 10 U.S. metro areas by plastic surge...  \n",
       "3  [bar, Top 10 U.S. metro areas by plastic surge...  \n",
       "4  [area, Number of passengers traveling with TAP...  "
      ]
     },
     "execution_count": 48,
     "metadata": {},
     "output_type": "execute_result"
    }
   ],
   "source": [
    "scicap_val_annotations.head()"
   ]
  },
  {
   "cell_type": "code",
   "execution_count": 77,
   "metadata": {},
   "outputs": [],
   "source": [
    "scitune_preds_with_caption=pd.merge(scitune_preds,blip_preds,on='question_id')\n",
    "scitune_preds_with_caption=pd.merge(scitune_preds_with_caption,scicap_val_annotations[['caption_id','caption_L1']],left_on='id',right_on='caption_id')"
   ]
  },
  {
   "cell_type": "code",
   "execution_count": 80,
   "metadata": {},
   "outputs": [
    {
     "data": {
      "text/html": [
       "<div>\n",
       "<style scoped>\n",
       "    .dataframe tbody tr th:only-of-type {\n",
       "        vertical-align: middle;\n",
       "    }\n",
       "\n",
       "    .dataframe tbody tr th {\n",
       "        vertical-align: top;\n",
       "    }\n",
       "\n",
       "    .dataframe thead th {\n",
       "        text-align: right;\n",
       "    }\n",
       "</style>\n",
       "<table border=\"1\" class=\"dataframe\">\n",
       "  <thead>\n",
       "    <tr style=\"text-align: right;\">\n",
       "      <th></th>\n",
       "      <th>question_id</th>\n",
       "      <th>prompt</th>\n",
       "      <th>text</th>\n",
       "      <th>answer_id</th>\n",
       "      <th>model_id</th>\n",
       "      <th>metadata</th>\n",
       "      <th>id</th>\n",
       "      <th>image</th>\n",
       "      <th>caption</th>\n",
       "      <th>caption_id</th>\n",
       "      <th>caption_L1</th>\n",
       "      <th>scitune_text</th>\n",
       "    </tr>\n",
       "  </thead>\n",
       "  <tbody>\n",
       "    <tr>\n",
       "      <th>0</th>\n",
       "      <td>301</td>\n",
       "      <td>Give an elaborate explanation of the image you...</td>\n",
       "      <td>Assistant: Bar Chart Cumulative number of empl...</td>\n",
       "      <td>bkDjUeb387Ss3VFXRyf3fQ</td>\n",
       "      <td>/rcfs/projects/steel_thread/models/LLAVA/13B</td>\n",
       "      <td>{}</td>\n",
       "      <td>3_01</td>\n",
       "      <td>3.png</td>\n",
       "      <td>a graph showing the number of employees in the...</td>\n",
       "      <td>3_01</td>\n",
       "      <td>This is a area plot labeled Worldwide number o...</td>\n",
       "      <td>Cumulative number of employees who have work...</td>\n",
       "    </tr>\n",
       "    <tr>\n",
       "      <th>1</th>\n",
       "      <td>302</td>\n",
       "      <td>Explain the various aspects of the image befor...</td>\n",
       "      <td>Assistant: Graph Plot The number of MICHELIN e...</td>\n",
       "      <td>5BsZz9AUiLoMpJN82MzGuT</td>\n",
       "      <td>/rcfs/projects/steel_thread/models/LLAVA/13B</td>\n",
       "      <td>{}</td>\n",
       "      <td>3_02</td>\n",
       "      <td>3.png</td>\n",
       "      <td>a graph showing the number of employees in the...</td>\n",
       "      <td>3_02</td>\n",
       "      <td>This is a area plot labeled Worldwide number o...</td>\n",
       "      <td>The number of MICHELIN employees (from 2005 ...</td>\n",
       "    </tr>\n",
       "    <tr>\n",
       "      <th>2</th>\n",
       "      <td>1801</td>\n",
       "      <td>Provide a detailed description of the given im...</td>\n",
       "      <td>Assistant:\\n The answer is The map on the left...</td>\n",
       "      <td>TevmmtFCmRjpfr7HcbJQ5i</td>\n",
       "      <td>/rcfs/projects/steel_thread/models/LLAVA/13B</td>\n",
       "      <td>{}</td>\n",
       "      <td>18_01</td>\n",
       "      <td>18.png</td>\n",
       "      <td>arafed bar graph of the number of surgeons per...</td>\n",
       "      <td>18_01</td>\n",
       "      <td>This bar chart is titled Top 10 U.S. metro are...</td>\n",
       "      <td>The answer is The map on the left depicts the...</td>\n",
       "    </tr>\n",
       "    <tr>\n",
       "      <th>3</th>\n",
       "      <td>1802</td>\n",
       "      <td>Explain the various aspects of the image befor...</td>\n",
       "      <td>Assistant:\\n The answer is The number of surge...</td>\n",
       "      <td>bofvY4zbsW3Yd7C8Sc8DyS</td>\n",
       "      <td>/rcfs/projects/steel_thread/models/LLAVA/13B</td>\n",
       "      <td>{}</td>\n",
       "      <td>18_02</td>\n",
       "      <td>18.png</td>\n",
       "      <td>arafed bar graph of the number of surgeons per...</td>\n",
       "      <td>18_02</td>\n",
       "      <td>This bar chart is titled Top 10 U.S. metro are...</td>\n",
       "      <td>The answer is The number of surgeries per 100...</td>\n",
       "    </tr>\n",
       "    <tr>\n",
       "      <th>4</th>\n",
       "      <td>2301</td>\n",
       "      <td>Provide a detailed description of the given im...</td>\n",
       "      <td>Assistant: Graph Plot Number of passengers tra...</td>\n",
       "      <td>2fYFW2uH3b69qRndQqQBRk</td>\n",
       "      <td>/rcfs/projects/steel_thread/models/LLAVA/13B</td>\n",
       "      <td>{}</td>\n",
       "      <td>23_01</td>\n",
       "      <td>23.png</td>\n",
       "      <td>arafed graph of passenger travelling with ta i...</td>\n",
       "      <td>23_01</td>\n",
       "      <td>This area diagram is titled Number of passenge...</td>\n",
       "      <td>Number of passengers traveling with TAP from...</td>\n",
       "    </tr>\n",
       "  </tbody>\n",
       "</table>\n",
       "</div>"
      ],
      "text/plain": [
       "   question_id                                             prompt  \\\n",
       "0          301  Give an elaborate explanation of the image you...   \n",
       "1          302  Explain the various aspects of the image befor...   \n",
       "2         1801  Provide a detailed description of the given im...   \n",
       "3         1802  Explain the various aspects of the image befor...   \n",
       "4         2301  Provide a detailed description of the given im...   \n",
       "\n",
       "                                                text               answer_id  \\\n",
       "0  Assistant: Bar Chart Cumulative number of empl...  bkDjUeb387Ss3VFXRyf3fQ   \n",
       "1  Assistant: Graph Plot The number of MICHELIN e...  5BsZz9AUiLoMpJN82MzGuT   \n",
       "2  Assistant:\\n The answer is The map on the left...  TevmmtFCmRjpfr7HcbJQ5i   \n",
       "3  Assistant:\\n The answer is The number of surge...  bofvY4zbsW3Yd7C8Sc8DyS   \n",
       "4  Assistant: Graph Plot Number of passengers tra...  2fYFW2uH3b69qRndQqQBRk   \n",
       "\n",
       "                                       model_id metadata     id   image  \\\n",
       "0  /rcfs/projects/steel_thread/models/LLAVA/13B       {}   3_01   3.png   \n",
       "1  /rcfs/projects/steel_thread/models/LLAVA/13B       {}   3_02   3.png   \n",
       "2  /rcfs/projects/steel_thread/models/LLAVA/13B       {}  18_01  18.png   \n",
       "3  /rcfs/projects/steel_thread/models/LLAVA/13B       {}  18_02  18.png   \n",
       "4  /rcfs/projects/steel_thread/models/LLAVA/13B       {}  23_01  23.png   \n",
       "\n",
       "                                             caption caption_id  \\\n",
       "0  a graph showing the number of employees in the...       3_01   \n",
       "1  a graph showing the number of employees in the...       3_02   \n",
       "2  arafed bar graph of the number of surgeons per...      18_01   \n",
       "3  arafed bar graph of the number of surgeons per...      18_02   \n",
       "4  arafed graph of passenger travelling with ta i...      23_01   \n",
       "\n",
       "                                          caption_L1  \\\n",
       "0  This is a area plot labeled Worldwide number o...   \n",
       "1  This is a area plot labeled Worldwide number o...   \n",
       "2  This bar chart is titled Top 10 U.S. metro are...   \n",
       "3  This bar chart is titled Top 10 U.S. metro are...   \n",
       "4  This area diagram is titled Number of passenge...   \n",
       "\n",
       "                                        scitune_text  \n",
       "0    Cumulative number of employees who have work...  \n",
       "1    The number of MICHELIN employees (from 2005 ...  \n",
       "2   The answer is The map on the left depicts the...  \n",
       "3   The answer is The number of surgeries per 100...  \n",
       "4    Number of passengers traveling with TAP from...  "
      ]
     },
     "execution_count": 80,
     "metadata": {},
     "output_type": "execute_result"
    }
   ],
   "source": [
    "scitune_preds_with_caption.head()"
   ]
  },
  {
   "cell_type": "code",
   "execution_count": 79,
   "metadata": {},
   "outputs": [],
   "source": [
    "\n",
    "scitune_preds_with_caption['text']=scitune_preds_with_caption['text'].apply(lambda x:x.replace('ASSIST:','Assistant:'))\n",
    "scitune_preds_with_caption['scitune_text']=scitune_preds_with_caption['text'].apply(lambda x:x.split('Assistant:')[1].lstrip('\\n').split('\\n')[0])\n",
    "scitune_preds_with_caption['scitune_text']=scitune_preds_with_caption['scitune_text'].apply(lambda x:x.replace('Assistant:',''))\n",
    "for _ in ['Graph Plot','Scatterplot','Node Diagram','Equation','Bar Chart']:\n",
    "    scitune_preds_with_caption['scitune_text']=scitune_preds_with_caption['scitune_text'].apply(lambda x:x.replace(_,''))"
   ]
  },
  {
   "cell_type": "code",
   "execution_count": 81,
   "metadata": {},
   "outputs": [
    {
     "name": "stderr",
     "output_type": "stream",
     "text": [
      "100%|██████████| 1202/1202 [00:15<00:00, 77.43it/s]\n",
      "100%|██████████| 1202/1202 [02:47<00:00,  7.16it/s]\n",
      "100%|██████████| 1202/1202 [00:14<00:00, 81.57it/s]\n",
      "100%|██████████| 1202/1202 [02:54<00:00,  6.90it/s]\n"
     ]
    }
   ],
   "source": [
    "\n",
    "## only BLEU + ROUGE for time\n",
    "metric_types = ['bleu', 'rouge']\n",
    "metrics = [bleu_metric, rouge_metric]\n",
    "metric_kwargs = [{}, {}]\n",
    "metric_keys = ['google_bleu', 'rougeL']\n",
    "\n",
    "pred_output_types = ['scitune_text', 'caption']\n",
    "for pred_output_type in pred_output_types:\n",
    "    for metric_type, metric_kwarg, metric, metric_key in zip(metric_types, metric_kwargs, metrics, metric_keys):\n",
    "        metric_col = f'{pred_output_type}_{metric_type}'\n",
    "#         if(metric_col not in results_outputs_with_metadata.columns):\n",
    "        scitune_preds_with_caption = scitune_preds_with_caption.assign(**{\n",
    "            metric_col : scitune_preds_with_caption.progress_apply(\n",
    "                lambda x: metric.compute(\n",
    "                    predictions=[x.loc[pred_output_type]], \n",
    "                    references=[[x.loc['caption_L1']]],\n",
    "                    **metric_kwarg\n",
    "                )[metric_key], axis=1\n",
    "            )\n",
    "        })\n"
   ]
  },
  {
   "cell_type": "code",
   "execution_count": 82,
   "metadata": {},
   "outputs": [
    {
     "name": "stdout",
     "output_type": "stream",
     "text": [
      "SciTune BLUE 0.09598398993689515 0.0738241444776161\n",
      "SciTune ROUGE 0.23145864868248303 0.12141017972331786\n",
      "BLIP BLUE 0.06282723915092647 0.04867878917368778\n",
      "BLIP ROUGE 0.2309265532343711 0.1149759887479741\n"
     ]
    }
   ],
   "source": [
    "\n",
    "## just the caption\n",
    "print(\"SciTune BLUE\",scitune_preds_with_caption['scitune_text_bleu'].mean(),scitune_preds_with_caption['scitune_text_bleu'].std())\n",
    "print(\"SciTune ROUGE\",scitune_preds_with_caption['scitune_text_rouge'].mean(),scitune_preds_with_caption['scitune_text_rouge'].std())\n",
    "\n",
    "print(\"BLIP BLUE\",scitune_preds_with_caption['caption_bleu'].mean(),scitune_preds_with_caption['caption_bleu'].std())\n",
    "print(\"BLIP ROUGE\",scitune_preds_with_caption['caption_rouge'].mean(),scitune_preds_with_caption['caption_rouge'].std())"
   ]
  },
  {
   "cell_type": "code",
   "execution_count": null,
   "metadata": {},
   "outputs": [],
   "source": [
    "# ## caption + OCR + mentions\n",
    "# print(\"SciTune BLUE\",scitune_preds_with_caption['text_bleu'].mean())\n",
    "# print(\"SciTune ROUGE\",scitune_preds_with_caption['text_rouge'].mean())\n",
    "\n",
    "# print(\"BLIP BLUE\",scitune_preds_with_caption['caption_bleu'].mean())\n",
    "# print(\"BLIP ROUGE\",scitune_preds_with_caption['caption_rouge'].mean())"
   ]
  },
  {
   "cell_type": "code",
   "execution_count": 83,
   "metadata": {},
   "outputs": [],
   "source": [
    "X=scitune_preds_with_caption[scitune_preds_with_caption['scitune_text_rouge']>0.25].sort_values(by='scitune_text_rouge',ascending=False)"
   ]
  },
  {
   "cell_type": "code",
   "execution_count": 85,
   "metadata": {},
   "outputs": [
    {
     "name": "stdout",
     "output_type": "stream",
     "text": [
      "Image ID:  7570_02\n",
      "GT:  Here a bar plot is titled Average retail price for chicken in Canada from January 2015 to June 2020 (in Canadian dollars per kilogram). The y-axis plots 2020 while the x-axis shows Month.\n",
      "BLIP:  a graph showing average price for chicken in canada from january to june 2020\n",
      "SciTune:    Average retail price for chicken in Canada from January 2015 to June 2020 in Canadian currency.\n"
     ]
    },
    {
     "data": {
      "image/png": "[encoded data removed]",
      "text/plain": [
       "<PIL.Image.Image image mode=RGB size=684x618>"
      ]
     },
     "execution_count": 85,
     "metadata": {},
     "output_type": "execute_result"
    }
   ],
   "source": [
    "index=1\n",
    "print(\"Image ID: \",X.iloc[index]['id'])\n",
    "print(\"GT: \",X.iloc[index]['caption_L1'])\n",
    "print(\"BLIP: \",X.iloc[index]['caption'])\n",
    "print(\"SciTune: \",X.iloc[index]['scitune_text'])\n",
    "image_file=X.iloc[index]['image']\n",
    "image = Image.open(os.path.join(image_folder, image_file)).convert('RGB')\n",
    "image"
   ]
  },
  {
   "cell_type": "code",
   "execution_count": null,
   "metadata": {},
   "outputs": [],
   "source": []
  }
 ],
 "metadata": {
  "kernelspec": {
   "display_name": "llava",
   "language": "python",
   "name": "python3"
  },
  "language_info": {
   "codemirror_mode": {
    "name": "ipython",
    "version": 3
   },
   "file_extension": ".py",
   "mimetype": "text/x-python",
   "name": "python",
   "nbconvert_exporter": "python",
   "pygments_lexer": "ipython3",
   "version": "3.9.16"
  },
  "orig_nbformat": 4
 },
 "nbformat": 4,
 "nbformat_minor": 2
}
